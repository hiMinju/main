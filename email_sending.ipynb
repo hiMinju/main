{
 "cells": [
  {
   "cell_type": "code",
   "execution_count": 1,
   "metadata": {},
   "outputs": [],
   "source": [
    "import smtplib"
   ]
  },
  {
   "cell_type": "code",
   "execution_count": 2,
   "metadata": {},
   "outputs": [],
   "source": [
    "smtp = smtplib.SMTP('smtp.gmail.com', 587)"
   ]
  },
  {
   "cell_type": "code",
   "execution_count": 4,
   "metadata": {},
   "outputs": [],
   "source": [
    "#587 port는 메일을 보내는데 사용하는 포트로 사용하겠다"
   ]
  },
  {
   "cell_type": "code",
   "execution_count": 9,
   "metadata": {},
   "outputs": [],
   "source": [
    "pw='alswn0508!'"
   ]
  },
  {
   "cell_type": "code",
   "execution_count": 6,
   "metadata": {},
   "outputs": [
    {
     "data": {
      "text/plain": [
       "(250,\n",
       " b'smtp.gmail.com at your service, [117.111.2.128]\\nSIZE 35882577\\n8BITMIME\\nSTARTTLS\\nENHANCEDSTATUSCODES\\nPIPELINING\\nCHUNKING\\nSMTPUTF8')"
      ]
     },
     "execution_count": 6,
     "metadata": {},
     "output_type": "execute_result"
    }
   ],
   "source": [
    "smtp.ehlo()"
   ]
  },
  {
   "cell_type": "code",
   "execution_count": 7,
   "metadata": {},
   "outputs": [
    {
     "data": {
      "text/plain": [
       "(220, b'2.0.0 Ready to start TLS')"
      ]
     },
     "execution_count": 7,
     "metadata": {},
     "output_type": "execute_result"
    }
   ],
   "source": [
    "smtp.starttls() #이제 암호화해서 사용"
   ]
  },
  {
   "cell_type": "code",
   "execution_count": 10,
   "metadata": {},
   "outputs": [
    {
     "data": {
      "text/plain": [
       "(235, b'2.7.0 Accepted')"
      ]
     },
     "execution_count": 10,
     "metadata": {},
     "output_type": "execute_result"
    }
   ],
   "source": [
    "smtp.login('minju980508', pw)"
   ]
  },
  {
   "cell_type": "code",
   "execution_count": 11,
   "metadata": {},
   "outputs": [
    {
     "data": {
      "text/plain": [
       "{}"
      ]
     },
     "execution_count": 11,
     "metadata": {},
     "output_type": "execute_result"
    }
   ],
   "source": [
    "smtp.sendmail('minju980508@gmail.com', ['minju980508@gmail.com', 'minjuyoubin@naver.com'], 'email testing success!!!')"
   ]
  },
  {
   "cell_type": "code",
   "execution_count": 12,
   "metadata": {},
   "outputs": [],
   "source": [
    "import smtplib\n",
    "from email.utils import formataddr\n",
    "from email.mime.text import MIMEText\n",
    "from email.header import Header\n",
    "import getpass\n",
    "\n",
    "\n",
    "smtp_info = {      # SMTP 서버\n",
    "    'gmail.com': ('smtp.gmail.com', 587),\n",
    "    'naver.com': ('smtp.naver.com', 587),\n",
    "    'daum.net': ('smtp.daum.net', 465),\n",
    "    'hanmail.net': ('smtp.daum.net', 465),\n",
    "    'nate.com': ('smtp.mail.nate.com', 465),\n",
    "    'hotmail.com': ('smtp-mail.outlook.com', 587),\n",
    "    'outlook.com': ('smtp-mail.outlook.com', 587),\n",
    "    'yahoo.com': ('smtp.mail.yahoo.com', 587),\n",
    "    }\n",
    "\n",
    "def send_text_email(sender_tup, receivers, subject, message, passwd):\n",
    "    '''\n",
    "    sender_tup: (display_name, email_address)\n",
    "    receivers: [(display_name, email_address), (display_name, email_address), ...]\n",
    "    subject: str\n",
    "    message: str\n",
    "    passwd: str\n",
    "    '''\n",
    "    # 보내는 사람 주소를 'Hong <hong@gmail.com>' 형식으로 변환\n",
    "    # 예: ('Hong', 'hong@somemail.com') -> 'Hong <hong@gmail.com>'\n",
    "    sender_form = formataddr(sender_tup)  \n",
    "    # 수신인들 주소 정리\n",
    "    mail_to = [formataddr(rec) for rec in receivers]\n",
    "\n",
    "    # SMPT 서버 선택\n",
    "    host = sender_tup[1].split('@')[1]  # gmail.com\n",
    "    smtp_server, port = smtp_info[host] # smtp.gmail.com, 587\n",
    "    \n",
    "    # 서버 연결\n",
    "    if port == 587:\n",
    "        smtp = smtplib.SMTP(smtp_server, port)\n",
    "        rcode1, _ = smtp.ehlo()\n",
    "        rcode2, _ = smtp.starttls()\n",
    "    else: # if port == 465:\n",
    "        smtp = smtplib.SMTP_SSL(smtp_server, port)\n",
    "        rcode1, _ = smtp.ehlo()\n",
    "        rcode2 = 220\n",
    "        \n",
    "    if rcode1 != 250 or rcode2 != 220:\n",
    "        smtp.quit()\n",
    "        return 'conection failed'\n",
    "    \n",
    "    # 로그인\n",
    "    rcode3, _ = smtp.login(sender_tup[1], passwd)\n",
    "    if rcode3 != 235:\n",
    "        smtp.quit()\n",
    "        return 'login failed'\n",
    "    \n",
    "    # 메일 구성 및 전송\n",
    "    msg = MIMEText(message.encode('utf-8'), _subtype='plain', _charset='utf-8')\n",
    "    msg['Subject'] = Header(subject.encode('utf-8'), 'utf-8')\n",
    "    msg['From'] = sender_form\n",
    "    msg['To'] = ','.join(mail_to)\n",
    "\n",
    "    smtp.sendmail(sender_form, mail_to, msg.as_string( ))\n",
    "    smtp.quit()"
   ]
  },
  {
   "cell_type": "code",
   "execution_count": 13,
   "metadata": {},
   "outputs": [],
   "source": [
    "myemail = ('김민주', 'minju980508@gmail.com')\n",
    "receivers = [('김민주', 'minjuyoubin@naver.com'), ('김민주', 'minju980508@gmail.com')]\n",
    "subject = 'Testing'\n",
    "message = '''\n",
    "Testing mail automatically.\n",
    "This is a mail sending from python.\n",
    "'''\n",
    "send_text_email(myemail,receivers, subject, message, pw)"
   ]
  },
  {
   "cell_type": "code",
   "execution_count": 14,
   "metadata": {},
   "outputs": [],
   "source": [
    "import smtplib\n",
    "import mimetypes\n",
    "import os\n",
    "import chardet   # pip install chardet로 설치\n",
    "\n",
    "from email.utils import formataddr\n",
    "from email.header import Header\n",
    "from email.message import Message\n",
    "from email.mime.base import MIMEBase\n",
    "from email.mime.audio import MIMEAudio\n",
    "from email.mime.image import MIMEImage\n",
    "from email.mime.text import MIMEText\n",
    "from email.mime.application import MIMEApplication\n",
    "\n",
    "\n",
    "smtp_info = {      # SMTP 서버\n",
    "    'gmail.com': ('smtp.gmail.com', 587),\n",
    "    'naver.com': ('smtp.naver.com', 587),\n",
    "    'daum.net': ('smtp.daum.net', 465),\n",
    "    'hanmail.net': ('smtp.daum.net', 465),\n",
    "    'nate.com': ('smtp.mail.nate.com', 465),\n",
    "    'hotmail.com': ('smtp-mail.outlook.com', 587),\n",
    "    'outlook.com': ('smtp-mail.outlook.com', 587),\n",
    "    'yahoo.com': ('smtp.mail.yahoo.com', 587),\n",
    "    }\n",
    "\n",
    "def send_email(sender_tup, receivers, subject, message, attach_files=(), passwd=''):\n",
    "    # 보내는 사람 주소 정리\n",
    "    sender = formataddr(sender_tup)\n",
    "    # 수신인들 주소 정리\n",
    "    mail_to = [formataddr(rec) for rec in receivers]\n",
    "\n",
    "    outer = MIMEBase('multipart', 'mixed')\n",
    "    outer['Subject'] = Header(subject.encode('utf-8'), 'utf-8')\n",
    "    outer['From'] = sender\n",
    "    outer['To'] = ', '.join(mail_to)   # 수신자 문자열 만들기\n",
    "    outer.preamble = 'This is a multi-part message in MIME format.\\n\\n'\n",
    "    outer.epilogue = ''\t      # 이렇게 하면 멀티파트 경계 다음에 줄 바꿈 코드가 삽입 됨\n",
    "    msg = MIMEText(message.encode('utf-8'), _charset='utf-8')\n",
    "    outer.attach(msg)  # 본문\n",
    "\n",
    "    for fpath in attach_files:\n",
    "        folder, file_name = os.path.split(fpath)\n",
    "        ctype, _ = mimetypes.guess_type(file_name) # 파일 종류 추측\n",
    "        if ctype is None:\n",
    "            ctype = 'application/octet-stream'\n",
    "        maintype, subtype = ctype.split('/', 1)\n",
    "        with open(fpath, 'rb') as f:\n",
    "            body = f.read()\n",
    "        if maintype == 'text':\n",
    "            encoding = chardet.detect(body)['encoding']\n",
    "            msg = MIMEText(body, _subtype=subtype, _charset=encoding)\n",
    "        elif maintype == 'image':\n",
    "            msg = MIMEImage(body, _subtype=subtype)\n",
    "        elif maintype == 'audio':\n",
    "            msg = MIMEAudio(body, _subtype=subtype)\n",
    "        else:\n",
    "            msg = MIMEApplication(body, _subtype=subtype)\n",
    "        msg.add_header('Content-Disposition', 'attachment', \n",
    "                       filename=(Header(file_name, 'utf-8').encode()))\n",
    "        outer.attach(msg) # 파일 첨부\n",
    "\n",
    "    # SMTP 서버를 통해서 메일 보내기\n",
    "    _, host = sender_tup[1].rsplit('@', 1)\n",
    "    smtp_server, port = smtp_info[host]\n",
    "    \n",
    "    if port == 587:\n",
    "        smtp = smtplib.SMTP(smtp_server, port)\n",
    "        rcode1, _ = smtp.ehlo()\n",
    "        rcode2, _ = smtp.starttls()\n",
    "    else: # if port == 465:\n",
    "        smtp = smtplib.SMTP_SSL(smtp_server, port)\n",
    "        rcode1, _ = smtp.ehlo()\n",
    "        rcode2 = 220\n",
    "        \n",
    "    if rcode1 != 250 or rcode2 != 220:\n",
    "        smtp.quit()\n",
    "        return 'conection failed'\n",
    "        \n",
    "    smtp.login(sender_tup[1], passwd)\n",
    "    smtp.sendmail(sender, mail_to, outer.as_string())\n",
    "    smtp.quit()"
   ]
  },
  {
   "cell_type": "code",
   "execution_count": 16,
   "metadata": {},
   "outputs": [
    {
     "name": "stdout",
     "output_type": "stream",
     "text": [
      "Requirement already satisfied: chardet in c:\\users\\minju\\anaconda3\\lib\\site-packages (3.0.4)\n"
     ]
    }
   ],
   "source": [
    "!pip install chardet"
   ]
  },
  {
   "cell_type": "code",
   "execution_count": 18,
   "metadata": {},
   "outputs": [],
   "source": [
    "myemail = ('김민주', 'minju980508@gmail.com')\n",
    "receivers = [('김민주', 'minjuyoubin@naver.com'), ('김민주', 'minju980508@gmail.com')]\n",
    "subject = 'Testing'\n",
    "message = '''\n",
    "Testing mail with file automatically.\n",
    "This is a mail sending from python.\n",
    "'''\n",
    "attach_file = [r'C:\\Users\\minju\\Anaconda3\\source\\1.png']\n",
    "send_email(myemail, receivers, subject, message, attach_file, pw)"
   ]
  },
  {
   "cell_type": "code",
   "execution_count": null,
   "metadata": {},
   "outputs": [],
   "source": []
  }
 ],
 "metadata": {
  "kernelspec": {
   "display_name": "Python 3",
   "language": "python",
   "name": "python3"
  },
  "language_info": {
   "codemirror_mode": {
    "name": "ipython",
    "version": 3
   },
   "file_extension": ".py",
   "mimetype": "text/x-python",
   "name": "python",
   "nbconvert_exporter": "python",
   "pygments_lexer": "ipython3",
   "version": "3.7.3"
  }
 },
 "nbformat": 4,
 "nbformat_minor": 2
}
